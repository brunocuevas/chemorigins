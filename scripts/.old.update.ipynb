{
 "cells": [
  {
   "attachments": {},
   "cell_type": "markdown",
   "metadata": {},
   "source": [
    "# Update Notebook\n",
    "\n",
    "This notebook contains the routines for updating our database. "
   ]
  },
  {
   "cell_type": "code",
   "execution_count": 1,
   "metadata": {},
   "outputs": [],
   "source": [
    "from pyArango.connection import *\n",
    "from rdkit import Chem as chem\n",
    "from rdkit.Chem import rdChemReactions as rdr\n",
    "from prebchemdb.schema import ReactionAnnotation, Reaction, Molecule, MoleculeCollection\n",
    "from prebchemdb.schema import ReactantLink, ProductLink, MoleculeLinkCollection\n",
    "from prebchemdb.schema import ReactionCollection\n",
    "from prebchemdb.schema import ReactionAnnotationLinkCollection, ReactionAnnotationLink\n",
    "import pandas as pd\n",
    "import hashlib\n",
    "import base64\n",
    "import json\n"
   ]
  },
  {
   "cell_type": "code",
   "execution_count": 2,
   "metadata": {},
   "outputs": [],
   "source": [
    "conn = Connection(\n",
    "    username=\"cuevaszuviri\", password=\"fenzym-donna0-mYhsod\"\n",
    ")\n",
    "db = conn[\"pORD\"]"
   ]
  },
  {
   "cell_type": "code",
   "execution_count": 3,
   "metadata": {},
   "outputs": [
    {
     "data": {
      "text/plain": [
       "<pyArango.query.AQLQuery at 0x7fc5fec21010>"
      ]
     },
     "execution_count": 3,
     "metadata": {},
     "output_type": "execute_result"
    }
   ],
   "source": [
    "db.AQLQuery(\n",
    "    \"\"\"\n",
    "    FOR u IN mainstage\n",
    "        REMOVE u IN mainstage\n",
    "    \"\"\", batchSize=1000, rawResults=True\n",
    ")\n",
    "\n",
    "db.AQLQuery(\n",
    "    \"\"\"\n",
    "    FOR u IN mainstage_links\n",
    "        REMOVE u IN mainstage_links\n",
    "    \"\"\", batchSize=1000, rawResults=True\n",
    ")"
   ]
  },
  {
   "cell_type": "code",
   "execution_count": 4,
   "metadata": {},
   "outputs": [],
   "source": [
    "def get_mol_identifier(mol: chem.rdchem.Mol):\n",
    "    inchikey = chem.MolToInchiKey(mol)\n",
    "    if inchikey == \"\":\n",
    "        raise RuntimeError(\"couldn't generated identifier - {:s}\".format(chem.MolToSmiles(mol)))\n",
    "    if mol.GetNumHeavyAtoms() > 6:\n",
    "        return 'mol-l-{:s}'.format(inchikey[:-2])\n",
    "    else:\n",
    "        return 'mol-s-{:s}'.format(inchikey)\n",
    "    \n",
    "def get_rxn_identifier(reactant_identifiers, product_identifiers):\n",
    "    smiles_resorted = ','.join(sorted(reactant_identifiers)) + ','.join(sorted(product_identifiers))\n",
    "    hasher = hashlib.sha1(smiles_resorted.encode('utf-8')).digest()[:12]\n",
    "    new_key = 'rxn-' + base64.urlsafe_b64encode(hasher).decode('utf-8')\n",
    "    return new_key"
   ]
  },
  {
   "cell_type": "code",
   "execution_count": 5,
   "metadata": {},
   "outputs": [],
   "source": [
    "def process_molecules(molecule_list, molecules_keys, molecules, comments):\n",
    "    for mol in molecule_list:\n",
    "        try:\n",
    "            identifier = get_mol_identifier(mol)\n",
    "        except:\n",
    "            comments += \"umable to convert {:s} to inchikey\".format(chem.MolToSmiles(mol))\n",
    "            continue\n",
    "        if identifier in molecule_list:\n",
    "            continue\n",
    "        else:\n",
    "            molecules.molecules.append(\n",
    "                Molecule(\n",
    "                    _key=str(identifier),\n",
    "                    smiles=chem.MolToSmiles(mol),\n",
    "                    inchi=chem.MolToInchi(mol),\n",
    "                    inchikey=chem.MolToInchiKey(mol),\n",
    "                )\n",
    "            )\n",
    "            molecules_keys.append(identifier)"
   ]
  },
  {
   "cell_type": "code",
   "execution_count": 17,
   "metadata": {},
   "outputs": [],
   "source": [
    "def exclude_by_source(reaction: ReactionAnnotation):\n",
    "    print(reaction.source)\n",
    "    if reaction.source in [\n",
    "        \"10.1016/j.icarus.2016.04.027\",\n",
    "        \"db:kegg\",\n",
    "        \"10.1002/2016je005078\",\n",
    "        \"10.1051/0004-6361/201220686\",\n",
    "        \"10.1051/0004-6361/201936697\",\n",
    "    ]:\n",
    "        return False\n",
    "    else:\n",
    "        return True"
   ]
  },
  {
   "cell_type": "code",
   "execution_count": 14,
   "metadata": {},
   "outputs": [],
   "source": [
    "molecules = MoleculeCollection(molecules=[])\n",
    "molecules_keys = []\n",
    "links = MoleculeLinkCollection(reactants=[], products=[])\n",
    "reaction_annotation_links = ReactionAnnotationLinkCollection(links=[])\n",
    "reactions = ReactionCollection(reactions=[])\n",
    "\n",
    "failures = []\n",
    "\n",
    "for annotation in filter(exclude_by_source, map(lambda x: ReactionAnnotation(**x.getStore()), db['staging'].fetchAll())):\n",
    "    try:\n",
    "        rxn = rdr.ReactionFromSmarts(annotation.smiles, useSmiles=True)\n",
    "    except ValueError:\n",
    "        failures.append(annotation)\n",
    "        continue\n",
    "\n",
    "    reactants = list(rxn.GetReactants())\n",
    "    products = list(rxn.GetProducts())\n",
    "    comments = \"\"\n",
    "    process_molecules(reactants + products, molecules_keys, molecules, comments)\n",
    "\n",
    "    reactant_identifiers = []\n",
    "    reactant_links = dict()\n",
    "    product_identifiers = []\n",
    "    product_links = dict()\n",
    "\n",
    "    for mol in reactants:\n",
    "        try:\n",
    "            identifier = get_mol_identifier(mol)\n",
    "        except RuntimeError:\n",
    "            continue\n",
    "        reactant_identifiers.append(identifier)\n",
    "        try:\n",
    "            reactant_links[identifier] += 1\n",
    "        except KeyError:\n",
    "            reactant_links[identifier] = 1\n",
    "\n",
    "    for mol in products:\n",
    "        try:\n",
    "            identifier = get_mol_identifier(mol)\n",
    "        except RuntimeError:\n",
    "            continue\n",
    "        product_identifiers.append(identifier)\n",
    "        try:\n",
    "            product_links[identifier] += 1\n",
    "        except KeyError:\n",
    "            product_links[identifier] = 1\n",
    "\n",
    "    reaction_key = get_rxn_identifier(reactant_identifiers, product_identifiers)\n",
    "\n",
    "    reactions.reactions.append(Reaction(\n",
    "        _key=reaction_key, source=annotation.source, \n",
    "        curated=annotation.curated, comments=annotation.comments + comments, curated_by=annotation.curated_by,\n",
    "        smiles=annotation.smiles, crossref=annotation.crossref\n",
    "    ))\n",
    "    \n",
    "    for link, n in reactant_links.items():\n",
    "        links.reactants.append(ReactantLink(_from='mainstage/' + link, _to='mainstage/' + reaction_key, n=n))\n",
    "    for link, n in product_links.items():\n",
    "        links.products.append(ProductLink(_to='mainstage/' + link, _from='mainstage/' + reaction_key, n=n))\n",
    "\n",
    "\n",
    "    \n",
    "    reaction_annotation_links.links.append(ReactionAnnotationLink(_from='staging/' + annotation.key, _to='mainstage/' + reaction_key))\n",
    "    "
   ]
  },
  {
   "cell_type": "code",
   "execution_count": 10,
   "metadata": {},
   "outputs": [],
   "source": [
    "def process_links(link):\n",
    "    link['_from'] = 'mainstage/' + link['_from']\n",
    "    link['_to'] = 'mainstage/' + link['_to']\n",
    "    return link"
   ]
  },
  {
   "cell_type": "code",
   "execution_count": null,
   "metadata": {},
   "outputs": [],
   "source": []
  },
  {
   "cell_type": "code",
   "execution_count": 11,
   "metadata": {},
   "outputs": [],
   "source": [
    "with open('/home/bcz/scratch/prebchem-upload/molecules.json', 'w') as f:\n",
    "    json.dump(molecules.dict(by_alias=True)['molecules'], f, indent=4)\n",
    "\n",
    "with open('/home/bcz/scratch/prebchem-upload/reactions.json', 'w') as f:\n",
    "    json.dump(reactions.dict(by_alias=True)['reactions'], f, indent=4)\n",
    "\n",
    "with open('/home/bcz/scratch/prebchem-upload/links.reactants-reaction.json', 'w') as f:\n",
    "    json.dump(links.dict(by_alias=True)['reactants'], f, indent=4)\n",
    "\n",
    "with open('/home/bcz/scratch/prebchem-upload/links.products-reaction.json', 'w') as f:\n",
    "    json.dump(links.dict(by_alias=True)['products'], f, indent=4)\n",
    "\n",
    "with open('/home/bcz/scratch/prebchem-upload/links.reaction-annotation.json', 'w') as f:\n",
    "    json.dump(reaction_annotation_links.dict(by_alias=True)['links'], f, indent=4)"
   ]
  },
  {
   "cell_type": "code",
   "execution_count": 12,
   "metadata": {},
   "outputs": [
    {
     "data": {
      "text/plain": [
       "1072"
      ]
     },
     "execution_count": 12,
     "metadata": {},
     "output_type": "execute_result"
    }
   ],
   "source": [
    "len(molecules_keys)"
   ]
  },
  {
   "cell_type": "code",
   "execution_count": 13,
   "metadata": {},
   "outputs": [
    {
     "data": {
      "text/plain": [
       "[ReactionAnnotation(source='10.1089/ast.2005.5.749', smiles='nan', agents=[], waste=[], conditions=['temperature=175C', 'pressure=0.9390565883665859atm'], crossref=[], comments='reviewed by D. cole', primary='CH3S-SCH3 + 3 H2S -> C2H4S5 + 4H2', attributes=[], curated=False, curated_by='', key='144802959'),\n",
       " ReactionAnnotation(source='10.1016/0016-7037(64)90147-4', smiles='nan', agents=[], waste=[], conditions=[], crossref=[], comments='reviewed by D. cole', primary='C9H11NO2 -> C8H11N + C7H9N', attributes=[], curated=False, curated_by='', key='144802979'),\n",
       " ReactionAnnotation(source='10.1016/0016-7037(64)90147-4', smiles='nan', agents=[], waste=[], conditions=[], crossref=[], comments='reviewed by D. cole', primary='C6H14N4O2 -> C5H9NO2', attributes=[], curated=False, curated_by='', key='144802981'),\n",
       " ReactionAnnotation(source='10.1016/0016-7037(93)90540-D', smiles='nan', agents=[], waste=[], conditions=[], crossref=[], comments='reviewed by D. cole', primary='H2NCHRCOOH* -> RCH2NH2 + CO2', attributes=[], curated=False, curated_by='', key='144802986'),\n",
       " ReactionAnnotation(source='10.1016/0016-7037(93)90540-D', smiles='nan', agents=[], waste=[], conditions=[], crossref=[], comments='reviewed by D. cole', primary='H2NCHRCOOH* + H2 -> RCH2COOH + NH3', attributes=[], curated=False, curated_by='', key='144802987'),\n",
       " ReactionAnnotation(source='10.1016/0012-821X(78)90042-0', smiles='nan', agents=[], waste=[], conditions=[], crossref=[], comments='reviewed by D. cole', primary='C3H7NO3 -> C3H7NO2 + H20', attributes=[], curated=False, curated_by='', key='144802991'),\n",
       " ReactionAnnotation(source='10.1016/j.supflu.2007.04.008', smiles='nan', agents=[], waste=[], conditions=[], crossref=[], comments='reviewed by D. cole', primary='C3H7NO2 + H2O -> C3H6O3 + H2 - H2O + NH3', attributes=[], curated=False, curated_by='', key='144802999'),\n",
       " ReactionAnnotation(source='10.1016/j.gca.2012.11.008', smiles='nan', agents=[], waste=[], conditions=[], crossref=[], comments='reviewed by D. cole', primary='C5H11NO2 + H2O -> C4H9NO + CO2 + 2 H2', attributes=[], curated=False, curated_by='', key='144803004'),\n",
       " ReactionAnnotation(source='10.1016/j.gca.2012.11.008', smiles='nan', agents=[], waste=[], conditions=[], crossref=[], comments='reviewed by D. cole', primary='C5H11NO2 + H2 -> C5H10O2 + NH3', attributes=[], curated=False, curated_by='', key='144803007'),\n",
       " ReactionAnnotation(source='10.1016/j.gca.2012.11.008', smiles='nan', agents=[], waste=[], conditions=[], crossref=[], comments='reviewed by D. cole', primary='C5H11NO2 -> C4H11N + CO2', attributes=[], curated=False, curated_by='', key='144803008'),\n",
       " ReactionAnnotation(source='10.1016/j.gca.2012.11.008', smiles='nan', agents=[], waste=[], conditions=[], crossref=[], comments='reviewed by D. cole', primary='C5H11NO2 + 6 Fe2O3 -> C4H9NO + CO2 + 4 Fe3O4 + H2O', attributes=[], curated=False, curated_by='', key='144803011'),\n",
       " ReactionAnnotation(source='10.1016/j.gca.2012.11.008', smiles='nan', agents=[], waste=[], conditions=[], crossref=[], comments='reviewed by D. cole', primary='C5H11NO2 + 4Fe3+ + H2O -> C4H9NO + CO2 + 4 Fe2+ + 4H', attributes=[], curated=False, curated_by='', key='144803012'),\n",
       " ReactionAnnotation(source='10.1246/bcsj.76.1171', smiles='nan', agents=[], waste=[], conditions=[], crossref=[], comments='reviewed by D. cole', primary='C6H13NO2 -> C6H11NO + H2O', attributes=[], curated=False, curated_by='', key='144803027'),\n",
       " ReactionAnnotation(source='10.1016/j.gca.2013.12.006', smiles='nan', agents=[], waste=[], conditions=[], crossref=[], comments='reviewed by D. cole', primary='HPO4 + C2H5O5P -> Fe4O21P6* + C2H3O2', attributes=[], curated=False, curated_by='', key='144803045')]"
      ]
     },
     "execution_count": 13,
     "metadata": {},
     "output_type": "execute_result"
    }
   ],
   "source": [
    "failures"
   ]
  },
  {
   "cell_type": "code",
   "execution_count": null,
   "metadata": {},
   "outputs": [],
   "source": []
  }
 ],
 "metadata": {
  "kernelspec": {
   "display_name": "rxnsql",
   "language": "python",
   "name": "python3"
  },
  "language_info": {
   "codemirror_mode": {
    "name": "ipython",
    "version": 3
   },
   "file_extension": ".py",
   "mimetype": "text/x-python",
   "name": "python",
   "nbconvert_exporter": "python",
   "pygments_lexer": "ipython3",
   "version": "3.11.1"
  },
  "orig_nbformat": 4
 },
 "nbformat": 4,
 "nbformat_minor": 2
}
